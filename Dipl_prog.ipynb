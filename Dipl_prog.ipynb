{
 "cells": [
  {
   "cell_type": "code",
   "execution_count": 60,
   "metadata": {
    "collapsed": false
   },
   "outputs": [
    {
     "name": "stdout",
     "output_type": "stream",
     "text": [
      "Z0 =  50\n",
      "lambda =  0.3\n",
      "d =  0.06\n",
      "\n",
      "n =  (3+0j) gamma =  62.83j Gamma =  (-0.8-0j) Zepsilon =  (5.56-0j) Kb =  0.111 Zin =  36.33j\n",
      "n =  (3+0.3j) gamma =  (6.28+62.83j) Gamma =  (-0.8-0.05j) Zepsilon =  (5.5-1.65j) Kb =  0.11 Zin =  (25.75+29.59j)\n",
      "n =  (3+0.6j) gamma =  (12.57+62.83j) Gamma =  (-0.8-0.1j) Zepsilon =  (5.34-3.21j) Kb =  0.106 Zin =  (40.1+17.75j)\n",
      "n =  (3+0.9j) gamma =  (18.85+62.83j) Gamma =  (-0.8-0.15j) Zepsilon =  (5.1-4.59j) Kb =  0.101 Zin =  (46+9.21j)\n",
      "n =  (3+1.2j) gamma =  (25.13+62.83j) Gamma =  (-0.81-0.19j) Zepsilon =  (4.79-5.75j) Kb =  0.095 Zin =  (48.3+4.51j)\n",
      "n =  (3+1.5j) gamma =  (31.42+62.83j) Gamma =  (-0.81-0.22j) Zepsilon =  (4.44-6.67j) Kb =  0.087 Zin =  (49.25+2.16j)\n",
      "n =  (3+1.8j) gamma =  (37.7+62.83j) Gamma =  (-0.82-0.25j) Zepsilon =  (4.08-7.35j) Kb =  0.08 Zin =  (49.66+1.02j)\n",
      "n =  (3+2.1j) gamma =  (43.98+62.83j) Gamma =  (-0.82-0.27j) Zepsilon =  (3.73-7.83j) Kb =  0.073 Zin =  (49.84+0.48j)\n",
      "n =  (3+2.4j) gamma =  (50.27+62.83j) Gamma =  (-0.83-0.28j) Zepsilon =  (3.39-8.13j) Kb =  0.066 Zin =  (49.93+0.23j)\n",
      "n =  (3+2.7j) gamma =  (56.55+62.83j) Gamma =  (-0.84-0.29j) Zepsilon =  (3.07-8.29j) Kb =  0.06 Zin =  (49.96+0.11j)\n",
      "n =  (3+3j) gamma =  (62.83+62.83j) Gamma =  (-0.85-0.29j) Zepsilon =  (2.78-8.33j) Kb =  0.054 Zin =  (49.98+0.05j)\n"
     ]
    }
   ],
   "source": [
    "import numpy as np\n",
    "import math\n",
    "import cmath\n",
    "Z0 = 50\n",
    "print \"Z0 = \", Z0\n",
    "n = 3\n",
    "lambd = 0.3\n",
    "print \"lambda = \", lambd\n",
    "d = 0.2 * lambd\n",
    "print \"d = \", d\n",
    "print\n",
    "k = np.zeros(11)\n",
    "alpha = np.zeros_like(k)\n",
    "betta = 2*math.pi*n/lambd\n",
    "\n",
    "Z0epsilonRe = np.zeros_like(k)\n",
    "Z0epsilonIm = np.zeros_like(k)\n",
    "\n",
    "GammaRe = np.zeros_like(k)\n",
    "GammaIm = np.zeros_like(k)\n",
    "\n",
    "Kb = np.zeros_like(k)\n",
    "\n",
    "ZinRe = np.zeros_like(k)\n",
    "ZinIm = np.zeros_like(k)\n",
    "\n",
    "\n",
    "for i in range(11):\n",
    "    k[i] = n * (i/10.0)\n",
    "    alpha[i] = (2*math.pi*k[i])/lambd\n",
    "    Z0epsilonRe[i] = Z0/(n**2 + k[i]**2)\n",
    "    Z0epsilonIm[i] = -Z0*k[i]/(n**2 + k[i]**2)\n",
    "    GammaRe[i] = ((Z0epsilonRe[i] - Z0)*(Z0epsilonRe[i] + Z0) + (Z0epsilonIm[i])**2)/((Z0epsilonRe[i] + Z0)**2 + Z0epsilonIm[i]**2)\n",
    "    GammaIm[i] = ((Z0epsilonRe[i] + Z0)*(Z0epsilonIm[i]) - ((Z0epsilonRe[i] - Z0)*Z0epsilonIm[i]))/((Z0epsilonRe[i] + Z0)**2 + Z0epsilonIm[i]**2)\n",
    "    Kb[i] = (1 - abs(complex(GammaRe[i],GammaIm[i])))/(1 + abs(complex(GammaRe[i],GammaIm[i])))\n",
    "    ZinRe[i] = Z0*((cmath.tanh(d*complex(alpha[i],betta))).real)\n",
    "    ZinIm[i] = Z0*((cmath.tanh(d*complex(alpha[i],betta))).imag)\n",
    "for i in range(11):\n",
    "    print \"n = \",complex(n, k[i]), \"gamma = \", complex(round(alpha[i],2),round(betta,2)), \"Gamma = \", complex(round(GammaRe[i],2),round(GammaIm[i],2)), \"Zepsilon = \", complex(round(Z0epsilonRe[i],2), round(Z0epsilonIm[i],2)), \"Kb = \", round(Kb[i],3), \"Zin = \", complex(round(ZinRe[i],2),round(ZinIm[i],2))\n",
    "    \n",
    "    \n",
    "\n",
    "\n"
   ]
  },
  {
   "cell_type": "code",
   "execution_count": null,
   "metadata": {
    "collapsed": true
   },
   "outputs": [],
   "source": []
  }
 ],
 "metadata": {
  "anaconda-cloud": {},
  "kernelspec": {
   "display_name": "Python [conda root]",
   "language": "python",
   "name": "conda-root-py"
  },
  "language_info": {
   "codemirror_mode": {
    "name": "ipython",
    "version": 2
   },
   "file_extension": ".py",
   "mimetype": "text/x-python",
   "name": "python",
   "nbconvert_exporter": "python",
   "pygments_lexer": "ipython2",
   "version": "2.7.12"
  }
 },
 "nbformat": 4,
 "nbformat_minor": 1
}
