{
 "cells": [
  {
   "cell_type": "markdown",
   "metadata": {},
   "source": [
    "Python\n",
    "1. Напишите решение Fizzbuzz question"
   ]
  },
  {
   "cell_type": "code",
   "execution_count": null,
   "metadata": {
    "collapsed": false
   },
   "outputs": [],
   "source": [
    "for x in range(1,101):\n",
    "    if (x % 3) == 0 and (x % 5)== 0:\n",
    "        print('FizzBuzz')\n",
    "    elif (x % 5) == 0:\n",
    "        print('Buzz')\n",
    "    elif (x % 3) == 0:\n",
    "        print('Fizz')\n",
    "    else:\n",
    "        print(x)    \n",
    "        "
   ]
  },
  {
   "cell_type": "markdown",
   "metadata": {},
   "source": [
    "2. Напишите вычисление сотого числа Фибоначчи\n"
   ]
  },
  {
   "cell_type": "code",
   "execution_count": null,
   "metadata": {
    "collapsed": false
   },
   "outputs": [],
   "source": [
    "a = 0\n",
    "b = 1\n",
    "for x in range(99):\n",
    "    c = b\n",
    "    b = a + b\n",
    "    a = c\n",
    "print(b)\n",
    "    "
   ]
  },
  {
   "cell_type": "markdown",
   "metadata": {},
   "source": [
    "NumPy\n",
    "\n",
    "1.Напишите свой аналог numpy.linspace с использованием цикла и с использованием list comprehension. Сравните все три варианта по времени работы."
   ]
  },
  {
   "cell_type": "code",
   "execution_count": 23,
   "metadata": {
    "collapsed": false
   },
   "outputs": [
    {
     "name": "stdout",
     "output_type": "stream",
     "text": [
      "CPU times: user 1.31 ms, sys: 619 µs, total: 1.93 ms\n",
      "Wall time: 1.51 ms\n"
     ]
    }
   ],
   "source": [
    "%%time\n",
    "#linspace с использование цикла\n",
    "\n",
    "start = 0.0\n",
    "stop = 100\n",
    "number =1000\n",
    "step = (stop - start)/(number-1)\n",
    "\n",
    "s1 = []\n",
    "a = start\n",
    "for x in range(number):\n",
    "    s1.append(a)\n",
    "    a = a + step"
   ]
  },
  {
   "cell_type": "code",
   "execution_count": 24,
   "metadata": {
    "collapsed": false
   },
   "outputs": [
    {
     "name": "stdout",
     "output_type": "stream",
     "text": [
      "CPU times: user 568 µs, sys: 234 µs, total: 802 µs\n",
      "Wall time: 614 µs\n"
     ]
    }
   ],
   "source": [
    "%%time\n",
    "#linspace с использованием list comprehension\n",
    "\n",
    "start = 0.0\n",
    "stop = 100\n",
    "number = 1000\n",
    "step = (stop - start)/(number-1)\n",
    "\n",
    "a = start\n",
    "s2 = [a + step*x for x in range(number)]"
   ]
  },
  {
   "cell_type": "code",
   "execution_count": 25,
   "metadata": {
    "collapsed": false
   },
   "outputs": [
    {
     "name": "stdout",
     "output_type": "stream",
     "text": [
      "CPU times: user 64 µs, sys: 15 µs, total: 79 µs\n",
      "Wall time: 70.8 µs\n"
     ]
    }
   ],
   "source": [
    "%%time\n",
    "#numpy linspace\n",
    "\n",
    "start = 0.0\n",
    "stop = 100\n",
    "number = 1000\n",
    "step = (stop - start)/(number-1)\n",
    "\n",
    "import numpy as np\n",
    "s3 = np.linspace(start,stop,number)"
   ]
  },
  {
   "cell_type": "markdown",
   "metadata": {},
   "source": [
    "Matplotlib\n",
    "\n",
    "1. Постройте графики трех элементарных функций (на ваш выбор) на одной координатной плоскости\n",
    "2. Добавьте подписи к осям и легенду в TeXе к получившимся графикам\n",
    "3. Пользуясь документацией Matplotlib, изобразите справа от исходной кординатной плоскости еще одну, еще с двумя графиками элементарных функций.\n",
    "4. Сохраните рисунок в файл строчкой кода на Python."
   ]
  },
  {
   "cell_type": "code",
   "execution_count": null,
   "metadata": {
    "collapsed": false
   },
   "outputs": [],
   "source": [
    "%matplotlib inline\n",
    "from matplotlib import pylab as plt\n",
    "import math\n",
    "\n",
    "fig = plt.figure()\n",
    "\n",
    "ax = fig.add_subplot(121, polar = False)\n",
    "x = np.arange(0.01,5,0.01)\n",
    "y = x**2\n",
    "y1 = 1/x\n",
    "y2 = 15*x\n",
    "\n",
    "ax.plot(x, y, label = \"$y(x)=x^2$\")\n",
    "ax.plot(x, y1, label = \"$y(x)=1/x$\")\n",
    "ax.plot(x, y2, label = \"$y(x)=15*x$\")\n",
    "ax.legend(title = r\"$Legend$\", loc = 'best')\n",
    "ax.set_xlabel('$x$', fontsize = 15)\n",
    "ax.set_ylabel('$y$', fontsize = 15)\n",
    "\n",
    "ax2 = fig.add_subplot(122, polar = False)\n",
    "y3 = x**3\n",
    "y4 = 1/(x**2)\n",
    "\n",
    "ax2.plot(x, y, label = \"$y(x)=x^3$\")\n",
    "ax2.plot(x, y1, label = \"$y(x)=1/x^2$\")\n",
    "ax2.legend(title = r\"$Legend$\", loc = 'best')\n",
    "plt.savefig('pic', fmt='png')\n",
    "plt.show()"
   ]
  },
  {
   "cell_type": "markdown",
   "metadata": {},
   "source": [
    "SciPY\n",
    "\n",
    "1. Сгенерируйте матрицу размера 5 х 5, заполненную результатами генерации чисел из стандартного нормального распределения (матожидание - 0, дисперсия - 1)\n",
    "2. Найдите собственные числа и собственные векторы этой матрицы (если забыли определение - можно посмотреть в Википедии)\n",
    "3. Проверьте, что результаты - действительно собственные числа и собственные векторы"
   ]
  },
  {
   "cell_type": "code",
   "execution_count": null,
   "metadata": {
    "collapsed": false
   },
   "outputs": [],
   "source": [
    "from scipy import linalg\n",
    "import numpy as np \n",
    "n = 5\n",
    "a = np.random.randn(n,n)\n",
    "#w - собственные числа, v - векторы\n",
    "w, v = linalg.eig(a)\n",
    "tf = True\n",
    "n = w.size\n",
    "\n",
    "#проверка \n",
    "for j in range(n):\n",
    "    a1 = np.dot(w[j],v[:,j])\n",
    "    a2 = np.dot(a, v[:,j])\n",
    "    for i in range(n):\n",
    "        if (round(a1[i].imag, 12) != round(a2[i].imag, 12) or (round(a1[i].real, 12) != round(a2[i].real, 12))):\n",
    "            tf = False\n",
    "print tf"
   ]
  },
  {
   "cell_type": "code",
   "execution_count": null,
   "metadata": {
    "collapsed": true
   },
   "outputs": [],
   "source": []
  },
  {
   "cell_type": "code",
   "execution_count": null,
   "metadata": {
    "collapsed": true
   },
   "outputs": [],
   "source": []
  },
  {
   "cell_type": "code",
   "execution_count": null,
   "metadata": {
    "collapsed": true
   },
   "outputs": [],
   "source": []
  }
 ],
 "metadata": {
  "anaconda-cloud": {},
  "kernelspec": {
   "display_name": "Python [conda root]",
   "language": "python",
   "name": "conda-root-py"
  },
  "language_info": {
   "codemirror_mode": {
    "name": "ipython",
    "version": 2
   },
   "file_extension": ".py",
   "mimetype": "text/x-python",
   "name": "python",
   "nbconvert_exporter": "python",
   "pygments_lexer": "ipython2",
   "version": "2.7.12"
  }
 },
 "nbformat": 4,
 "nbformat_minor": 1
}
